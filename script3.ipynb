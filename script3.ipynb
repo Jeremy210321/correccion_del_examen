{
 "cells": [
  {
   "cell_type": "code",
   "execution_count": 1,
   "id": "e979167e",
   "metadata": {},
   "outputs": [
    {
     "name": "stdout",
     "output_type": "stream",
     "text": [
      "Requirement already satisfied: pymongo in c:\\users\\usuario\\appdata\\local\\programs\\python\\python39\\lib\\site-packages (3.12.0)\n",
      "Note: you may need to restart the kernel to use updated packages.\n"
     ]
    }
   ],
   "source": [
    "pip install pymongo"
   ]
  },
  {
   "cell_type": "code",
   "execution_count": 2,
   "id": "f01d587e",
   "metadata": {},
   "outputs": [
    {
     "name": "stdout",
     "output_type": "stream",
     "text": [
      "Requirement already satisfied: pandas in c:\\users\\usuario\\appdata\\local\\programs\\python\\python39\\lib\\site-packages (1.2.4)\n",
      "Requirement already satisfied: numpy>=1.16.5 in c:\\users\\usuario\\appdata\\local\\programs\\python\\python39\\lib\\site-packages (from pandas) (1.20.3)\n",
      "Requirement already satisfied: pytz>=2017.3 in c:\\users\\usuario\\appdata\\local\\programs\\python\\python39\\lib\\site-packages (from pandas) (2021.1)\n",
      "Requirement already satisfied: python-dateutil>=2.7.3 in c:\\users\\usuario\\appdata\\local\\programs\\python\\python39\\lib\\site-packages (from pandas) (2.8.1)\n",
      "Requirement already satisfied: six>=1.5 in c:\\users\\usuario\\appdata\\local\\programs\\python\\python39\\lib\\site-packages (from python-dateutil>=2.7.3->pandas) (1.16.0)\n",
      "Note: you may need to restart the kernel to use updated packages.\n"
     ]
    }
   ],
   "source": [
    "pip install pandas"
   ]
  },
  {
   "cell_type": "code",
   "execution_count": 2,
   "id": "ebb29091",
   "metadata": {},
   "outputs": [
    {
     "name": "stdout",
     "output_type": "stream",
     "text": [
      "MongoDB connection: Success\n"
     ]
    }
   ],
   "source": [
    "#Aqui se hace la conexion de forma local a mongodb\n",
    "from pymongo import MongoClient\n",
    "CLIENT = MongoClient('mongodb://localhost:27017/')\n",
    "try:\n",
    "    CLIENT.admin.command('ismaster')\n",
    "    print('MongoDB connection: Success')\n",
    "except ConnectionFailure as cf:\n",
    "    print('MongoDB connection: failed', cf)"
   ]
  },
  {
   "cell_type": "code",
   "execution_count": 3,
   "id": "4a242545",
   "metadata": {},
   "outputs": [],
   "source": [
    "import requests\n",
    "from bs4 import BeautifulSoup\n",
    "from pymongo import MongoClient\n",
    "import pandas as pd\n",
    "import bson\n",
    "import json\n",
    "from bson.raw_bson import RawBSONDocument\n",
    "\n",
    "    \n",
    "def find_2nd(string, substring):\n",
    "    return string.find(substring, string.find(substring) + 1)\n",
    "def find_1st(string, substring):\n",
    "    return string.find(substring, string.find(substring))\n"
   ]
  },
  {
   "cell_type": "code",
   "execution_count": 7,
   "id": "5312fd48",
   "metadata": {},
   "outputs": [
    {
     "data": {
      "text/plain": [
       "[<h2 class=\"tk-disciplines__title\">\n",
       "                 Atletismo\n",
       "             </h2>,\n",
       " <h2 class=\"tk-disciplines__title\">\n",
       "                 Bádminton\n",
       "             </h2>,\n",
       " <h2 class=\"tk-disciplines__title\">\n",
       "                 Baloncesto\n",
       "             </h2>,\n",
       " <h2 class=\"tk-disciplines__title\">\n",
       "                 Baloncesto 3x3\n",
       "             </h2>,\n",
       " <h2 class=\"tk-disciplines__title\">\n",
       "                 Balonmano\n",
       "             </h2>,\n",
       " <h2 class=\"tk-disciplines__title\">\n",
       "                 Béisbol/ <br/>sóftbol\n",
       "             </h2>,\n",
       " <h2 class=\"tk-disciplines__title\">\n",
       "                 Boxeo\n",
       "             </h2>,\n",
       " <h2 class=\"tk-disciplines__title\">\n",
       "                 Ciclismo BMX freestyle\n",
       "             </h2>,\n",
       " <h2 class=\"tk-disciplines__title\">\n",
       "                 Ciclismo BMX racing\n",
       "             </h2>,\n",
       " <h2 class=\"tk-disciplines__title\">\n",
       "                 Ciclismo de montaña\n",
       "             </h2>,\n",
       " <h2 class=\"tk-disciplines__title\">\n",
       "                 Ciclismo en pista\n",
       "             </h2>,\n",
       " <h2 class=\"tk-disciplines__title\">\n",
       "                 Ciclismo en ruta\n",
       "             </h2>,\n",
       " <h2 class=\"tk-disciplines__title\">\n",
       "                 Escalada deportiva\n",
       "             </h2>,\n",
       " <h2 class=\"tk-disciplines__title\">\n",
       "                 Esgrima\n",
       "             </h2>,\n",
       " <h2 class=\"tk-disciplines__title\">\n",
       "                 Fútbol\n",
       "             </h2>,\n",
       " <h2 class=\"tk-disciplines__title\">\n",
       "                 Gimnasia artística\n",
       "             </h2>,\n",
       " <h2 class=\"tk-disciplines__title\">\n",
       "                 Gimnasia rítmica\n",
       "             </h2>,\n",
       " <h2 class=\"tk-disciplines__title\">\n",
       "                 Gimnasia: trampolín\n",
       "             </h2>,\n",
       " <h2 class=\"tk-disciplines__title\">\n",
       "                 Golf\n",
       "             </h2>,\n",
       " <h2 class=\"tk-disciplines__title\">\n",
       "                 Halterofilia\n",
       "             </h2>,\n",
       " <h2 class=\"tk-disciplines__title\">\n",
       "                 Hípica\n",
       "             </h2>,\n",
       " <h2 class=\"tk-disciplines__title\">\n",
       "                 Hockey\n",
       "             </h2>,\n",
       " <h2 class=\"tk-disciplines__title\">\n",
       "                 Judo\n",
       "             </h2>,\n",
       " <h2 class=\"tk-disciplines__title\">\n",
       "                 Karate\n",
       "             </h2>,\n",
       " <h2 class=\"tk-disciplines__title\">\n",
       "                 Lucha\n",
       "             </h2>,\n",
       " <h2 class=\"tk-disciplines__title\">\n",
       "                 Natación\n",
       "             </h2>,\n",
       " <h2 class=\"tk-disciplines__title\">\n",
       "                 Natación artística\n",
       "             </h2>,\n",
       " <h2 class=\"tk-disciplines__title\">\n",
       "                 Natación en aguas abiertas\n",
       "             </h2>,\n",
       " <h2 class=\"tk-disciplines__title\">\n",
       "                 Pentatlón moderno\n",
       "             </h2>,\n",
       " <h2 class=\"tk-disciplines__title\">\n",
       "                 Piragüismo en eslalon\n",
       "             </h2>,\n",
       " <h2 class=\"tk-disciplines__title\">\n",
       "                 Piragüismo esprint\n",
       "             </h2>,\n",
       " <h2 class=\"tk-disciplines__title\">\n",
       "                 Remo\n",
       "             </h2>,\n",
       " <h2 class=\"tk-disciplines__title\">\n",
       "                 Rugby\n",
       "             </h2>,\n",
       " <h2 class=\"tk-disciplines__title\">\n",
       "                 Saltos\n",
       "             </h2>,\n",
       " <h2 class=\"tk-disciplines__title\">\n",
       "                 Skateboarding\n",
       "             </h2>,\n",
       " <h2 class=\"tk-disciplines__title\">\n",
       "                 Surf\n",
       "             </h2>,\n",
       " <h2 class=\"tk-disciplines__title\">\n",
       "                 Taekwondo\n",
       "             </h2>,\n",
       " <h2 class=\"tk-disciplines__title\">\n",
       "                 Tenis\n",
       "             </h2>,\n",
       " <h2 class=\"tk-disciplines__title\">\n",
       "                 Tenis de mesa\n",
       "             </h2>,\n",
       " <h2 class=\"tk-disciplines__title\">\n",
       "                 Tiro\n",
       "             </h2>,\n",
       " <h2 class=\"tk-disciplines__title\">\n",
       "                 Tiro con arco\n",
       "             </h2>,\n",
       " <h2 class=\"tk-disciplines__title\">\n",
       "                 Triatlón\n",
       "             </h2>,\n",
       " <h2 class=\"tk-disciplines__title\">\n",
       "                 Vela\n",
       "             </h2>,\n",
       " <h2 class=\"tk-disciplines__title\">\n",
       "                 Voleibol\n",
       "             </h2>,\n",
       " <h2 class=\"tk-disciplines__title\">\n",
       "                 Voleibol playa\n",
       "             </h2>,\n",
       " <h2 class=\"tk-disciplines__title\">\n",
       "                 Waterpolo\n",
       "             </h2>]"
      ]
     },
     "execution_count": 7,
     "metadata": {},
     "output_type": "execute_result"
    }
   ],
   "source": [
    "response = requests.get('https://olympics.com/tokyo-2020/es/deportes/')\n",
    "soup = BeautifulSoup(response.content, \"lxml\")\n",
    "\n",
    "Titulo=[]\n",
    "Noticia=[]\n",
    "\n",
    "post_titulo=soup.find_all(\"h2\", class_=\"tk-disciplines__title\")\n",
    "\n",
    "\n",
    "for element in post_titulo:\n",
    "    #print(element)\n",
    "    element=str(element)\n",
    "    limpio=str(element[find_1st(element, '>')+1:find_2nd(element,'<')])\n",
    "    #print (limpio)\n",
    "    Titulo.append(limpio.strip())\n",
    "\n",
    "        \n",
    "def listado():\n",
    "    i=0\n",
    "    for n in range(len(Titulo)):\n",
    "        Noticia.append(\"Noticia \" + str(i+1))\n",
    "        i=i+1\n",
    "listado()\n",
    "\n",
    "\n",
    "post_titulo"
   ]
  },
  {
   "cell_type": "code",
   "execution_count": 5,
   "id": "7d171ef1",
   "metadata": {},
   "outputs": [],
   "source": [
    "#Aqui se pasa el diccionario obtenido a DataFrame y se guarda como json\n",
    "Doc=pd.DataFrame({'titulo':Titulo}, index=Noticia)\n",
    "Doc\n",
    "Doc.to_json('juegosolimpicos.json')"
   ]
  },
  {
   "cell_type": "code",
   "execution_count": 6,
   "id": "90b03d97",
   "metadata": {},
   "outputs": [
    {
     "name": "stdout",
     "output_type": "stream",
     "text": [
      "Se ha guardado exitosamente\n"
     ]
    }
   ],
   "source": [
    "#Mediante la conexion se establece el nombre de la BD y la colección\n",
    "db = CLIENT[\"olimpicos\"]\n",
    "Collection = db[\"noticias\"] \n",
    "\n",
    "#Obtiene el documento json generado anteriormente y lo carga en una variable\n",
    "with open('juegosolimpicos.json') as file: \n",
    "    file_data = json.load(file) \n",
    "     \n",
    "if isinstance(file_data, list): \n",
    "    Collection.insert_many(file_data)   \n",
    "else: \n",
    "    Collection.insert_one(file_data) \n",
    "print(\"Se ha guardado exitosamente\")"
   ]
  },
  {
   "cell_type": "code",
   "execution_count": null,
   "id": "816887d8",
   "metadata": {},
   "outputs": [],
   "source": []
  }
 ],
 "metadata": {
  "kernelspec": {
   "display_name": "Python 3",
   "language": "python",
   "name": "python3"
  },
  "language_info": {
   "codemirror_mode": {
    "name": "ipython",
    "version": 3
   },
   "file_extension": ".py",
   "mimetype": "text/x-python",
   "name": "python",
   "nbconvert_exporter": "python",
   "pygments_lexer": "ipython3",
   "version": "3.9.5"
  }
 },
 "nbformat": 4,
 "nbformat_minor": 5
}
